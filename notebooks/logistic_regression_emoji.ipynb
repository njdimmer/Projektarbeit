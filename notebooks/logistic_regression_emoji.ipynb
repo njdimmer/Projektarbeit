{
 "cells": [
  {
   "cell_type": "markdown",
   "metadata": {},
   "source": [
    "# Logistic Regression with Emoji Support"
   ]
  },
  {
   "cell_type": "code",
   "execution_count": null,
   "metadata": {},
   "outputs": [],
   "source": [
    "!pip install emoji demoji pandas scikit-learn nltk"
   ]
  },
  {
   "cell_type": "code",
   "execution_count": null,
   "metadata": {},
   "outputs": [],
   "source": [
    "import pandas as pd\n",
    "import nltk\n",
    "from nltk.corpus import stopwords\n",
    "from nltk.stem import WordNetLemmatizer\n",
    "from sklearn.feature_extraction.text import TfidfVectorizer\n",
    "from sklearn.linear_model import LogisticRegression\n",
    "from sklearn.model_selection import train_test_split\n",
    "from sklearn.metrics import accuracy_score, classification_report, confusion_matrix\n",
    "import seaborn as sns\n",
    "import matplotlib.pyplot as plt\n",
    "import numpy as np\n",
    "import re\n",
    "import emoji\n",
    "import warnings\n",
    "\n",
    "nltk.download('stopwords')\n",
    "nltk.download('wordnet')\n",
    "warnings.filterwarnings('ignore')"
   ]
  },
  {
   "cell_type": "code",
   "execution_count": null,
   "metadata": {},
   "outputs": [],
   "source": [
    "# Reading the data\n",
    "df = pd.read_csv('../.res/IMDb_Dataset.csv')\n",
    "print(df.shape)\n",
    "df.head()"
   ]
  },
  {
   "cell_type": "code",
   "execution_count": null,
   "metadata": {},
   "outputs": [],
   "source": [
    "def extract_emojis(text):\n",
    "    \"\"\"Extract emojis and return them with descriptions\"\"\"\n",
    "    emoji_list = []\n",
    "    for char in text:\n",
    "        if char in emoji.EMOJI_DATA:\n",
    "            emoji_name = emoji.EMOJI_DATA[char]['en'].replace(':', '').replace('_', ' ')\n",
    "            emoji_list.append(f\"{char} {emoji_name}\")\n",
    "    return ' '.join(emoji_list) if emoji_list else ''\n",
    "\n",
    "def clean_text(text):\n",
    "    \"\"\"Clean text while preserving emojis\"\"\"\n",
    "    # Extract emojis and their descriptions\n",
    "    emoji_content = extract_emojis(text)\n",
    "    \n",
    "    # Remove URLs\n",
    "    text = re.sub(r'http\\S+', '', text)\n",
    "    # Remove HTML tags\n",
    "    text = re.sub(r'<.*?>', '', text)\n",
    "    # Remove non-letters and non-digits, but keep emojis\n",
    "    text = ''.join([char for char in text if char.isalnum() or char.isspace() or char in emoji.EMOJI_DATA])\n",
    "    \n",
    "    # Combine cleaned text with emoji descriptions\n",
    "    return f\"{text.lower()} {emoji_content}\".strip()\n",
    "\n",
    "# Clean the text\n",
    "df['review'] = df['review'].apply(clean_text)"
   ]
  },
  {
   "cell_type": "code",
   "execution_count": null,
   "metadata": {},
   "outputs": [],
   "source": [
    "# Remove stopwords but keep emoji descriptions\n",
    "stopwords_set = set(stopwords.words('english'))\n",
    "\n",
    "def remove_stopwords(text):\n",
    "    words = text.split()\n",
    "    # Keep words that are either not stopwords or are part of emoji descriptions\n",
    "    filtered = [word for word in words if word not in stopwords_set or any(char in emoji.EMOJI_DATA for char in word)]\n",
    "    return \" \".join(filtered)\n",
    "\n",
    "df['review'] = df['review'].apply(remove_stopwords)"
   ]
  },
  {
   "cell_type": "code",
   "execution_count": null,
   "metadata": {},
   "outputs": [],
   "source": [
    "# Lemmatize while preserving emoji content\n",
    "lemmatizer = WordNetLemmatizer()\n",
    "\n",
    "def lemmatize_text(text):\n",
    "    words = text.split()\n",
    "    # Only lemmatize non-emoji words\n",
    "    lemmatized = [lemmatizer.lemmatize(word) if not any(char in emoji.EMOJI_DATA for char in word) else word \n",
    "                  for word in words]\n",
    "    return ' '.join(lemmatized)\n",
    "\n",
    "df['review'] = df['review'].apply(lemmatize_text)"
   ]
  },
  {
   "cell_type": "code",
   "execution_count": null,
   "metadata": {},
   "outputs": [],
   "source": [
    "# Convert labels\n",
    "df.rename(columns={'sentiment': 'label'}, inplace=True)\n",
    "df.label = df.label.apply(lambda x: 1 if x == 'positive' else 0)"
   ]
  },
  {
   "cell_type": "code",
   "execution_count": null,
   "metadata": {},
   "outputs": [],
   "source": [
    "# Split the data\n",
    "train_data, test_data = train_test_split(df, test_size=0.2, random_state=42)\n",
    "\n",
    "train_texts = train_data['review']\n",
    "train_labels = train_data['label']\n",
    "test_texts = test_data['review']\n",
    "test_labels = test_data['label']"
   ]
  },
  {
   "cell_type": "code",
   "execution_count": null,
   "metadata": {},
   "outputs": [],
   "source": [
    "# TF-IDF vectorization\n",
    "tfidf = TfidfVectorizer(ngram_range=(1, 2), max_features=5000)\n",
    "X_train = tfidf.fit_transform(train_texts)\n",
    "X_test = tfidf.transform(test_texts)\n",
    "\n",
    "# Train model\n",
    "lr = LogisticRegression(max_iter=1000)\n",
    "lr.fit(X_train, train_labels)"
   ]
  },
  {
   "cell_type": "code",
   "execution_count": null,
   "metadata": {},
   "outputs": [],
   "source": [
    "# Evaluate\n",
    "y_pred = lr.predict(X_test)\n",
    "print(\"Accuracy:\", accuracy_score(test_labels, y_pred))\n",
    "print(\"\\nClassification Report:\\n\", classification_report(test_labels, y_pred))"
   ]
  },
  {
   "cell_type": "code",
   "execution_count": null,
   "metadata": {},
   "outputs": [],
   "source": [
    "# Confusion Matrix\n",
    "conf_matrix = confusion_matrix(test_labels, y_pred)\n",
    "plt.figure(figsize=(6, 4))\n",
    "sns.heatmap(conf_matrix, annot=True, fmt='d', cmap='Blues',\n",
    "            xticklabels=['Negative', 'Positive'],\n",
    "            yticklabels=['Negative', 'Positive'])\n",
    "plt.title(\"Confusion Matrix\")\n",
    "plt.xlabel(\"Predicted Label\")\n",
    "plt.ylabel(\"True Label\")\n",
    "plt.show()"
   ]
  },
  {
   "cell_type": "code",
   "execution_count": null,
   "metadata": {},
   "outputs": [],
   "source": [
    "# Test with emoji example\n",
    "test_text = \"This movie was amazing! 😊 Loved every minute of it! 🎬 ❤️\"\n",
    "processed_text = clean_text(test_text)\n",
    "processed_text = remove_stopwords(processed_text)\n",
    "processed_text = lemmatize_text(processed_text)\n",
    "\n",
    "# Transform and predict\n",
    "test_vector = tfidf.transform([processed_text])\n",
    "prediction = lr.predict(test_vector)[0]\n",
    "probability = lr.predict_proba(test_vector)[0]\n",
    "\n",
    "print(f\"Original text: {test_text}\")\n",
    "print(f\"Processed text: {processed_text}\")\n",
    "print(f\"Prediction: {'Positive' if prediction == 1 else 'Negative'}\")\n",
    "print(f\"Confidence: {max(probability):.2f}\")"
   ]
  }
 ],
 "metadata": {
  "kernelspec": {
   "display_name": "Python 3",
   "language": "python",
   "name": "python3"
  }
 },
 "nbformat": 4,
 "nbformat_minor": 2
}